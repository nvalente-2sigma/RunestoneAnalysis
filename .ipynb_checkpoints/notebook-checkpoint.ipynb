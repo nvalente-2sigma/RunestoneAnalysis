{
 "cells": [
  {
   "cell_type": "code",
   "execution_count": null,
   "metadata": {
    "pycharm": {
     "name": "#%%\n"
    }
   },
   "outputs": [],
   "source": [
    "import numpy as np\n",
    "import pandas as pd\n",
    "import seaborn as sns\n",
    "import matplotlib.pyplot as plt\n",
    "pd.options.mode.chained_assignment = None  # default = 'warn'\n",
    "\n",
    "log = pd.read_csv('data/data_log.csv', index_col=0)\n",
    "actByInt = pd.read_csv('data/activity_by_interaction.csv', index_col=0)\n",
    "actBySub = pd.read_csv('data/activity_by_subchapter.csv', index_col=0)\n",
    "\n",
    "# Drop administrator activity\n",
    "# Note: Found student event with admin type, so must also filter for admin actions\n",
    "REMOVE_ADMINS = True\n",
    "REMOVE_INACTIVE = True\n",
    "_inactivity_threshold = 1 # Number of standard deviations below mean to consider inactive\n",
    "\n",
    "sid_map = {}\n",
    "name_map = {}\n",
    "\n",
    "admins = np.array([])\n",
    "inactive = np.array([])\n",
    "if REMOVE_ADMINS:\n",
    "    admins = log.query('event == \"admin\" & act == \"admin\"')['sid'].unique()\n",
    "if REMOVE_INACTIVE:\n",
    "    icount = log[log['sid'].isin(admins) == False].groupby('sid')['timestamp'].count() # interaction count for non-admins\n",
    "    inactive = icount[(icount - icount.mean()) / icount.std() <= -_inactivity_threshold].index.values # Remove if activity is 1 std below the mean\n",
    "\n",
    "outliers = np.append(admins, inactive)\n",
    "\n",
    "# Rename chapter_activity headers to match student id (sid) in data_log\n",
    "# Assuming actByInt and actBySub have same names in columns headers\n",
    "for name in actByInt.columns:\n",
    "    # Split over '<br>' tag and store in dictionaries\n",
    "    if '<br>' in name:\n",
    "        last_first = name[:name.index('<')].split(', ')\n",
    "        full_name = last_first[1] + ' ' + last_first[0]\n",
    "        sid = name[name.index('>') + 2:-1]\n",
    "        name_map[name] = sid\n",
    "        if sid not in outliers:\n",
    "            sid_map[sid] = full_name\n",
    "\n",
    "actByInt.rename(columns=name_map, inplace=True)\n",
    "actBySub.rename(columns=name_map, inplace=True)\n",
    "if REMOVE_ADMINS or REMOVE_INACTIVE:\n",
    "    log = log[log['sid'].isin(outliers) == False]\n",
    "    actByInt.drop(columns=outliers,inplace=True,errors='ignore')\n",
    "    actBySub.drop(columns=outliers, inplace=True,errors='ignore')\n",
    "\n",
    "\n",
    "# Sometimes the div_id column contains the chapter/subchapter field, so need to split and move to chapter and subchapter columns\n",
    "split_div = log[log['div_id'].str.contains('Unit\\\\d',regex=True) & ~log['div_id'].str.contains('toctree')]\n",
    "split_div['div_id'] = split_div['div_id'].str.replace('.html', '')\n",
    "split_div['chapter'] = split_div['div_id'].map(lambda x : x.split('/')[0])\n",
    "split_div['subchapter'] = split_div['div_id'].map(lambda x : x.split('/')[-1]) # Need to use -1 because not all unit div_id's have a '/subchapter'\n",
    "log[log['div_id'].str.contains('Unit\\\\d',regex=True) & ~log['div_id'].str.contains('toctree')] = split_div\n",
    "\n",
    "# Create a chapter_label_val column with float values assigned to each subchapter, in order of content progression.\n",
    "log['chapter_label_val'] = log['chapter'] + '/' + log['subchapter']\n",
    "log['chapter_label_val'] = log['chapter_label_val'].map(lambda x : \\\n",
    "                                                   float(actBySub.loc[actBySub['chapter_label'].str.contains(x),'chapter_label'].iloc[0].split(' ')[0]) \\\n",
    "                                                   if 'Unit' in x else np.nan)\n",
    "log['timestamp'] = pd.to_datetime(log['timestamp'])\n",
    "log['unit']=np.floor(log['chapter_label_val']).astype('str')\n"
   ]
  },
  {
   "cell_type": "code",
   "execution_count": null,
   "metadata": {
    "pycharm": {
     "name": "#%%\n"
    }
   },
   "outputs": [],
   "source": [
    "# Create scatterplot where x-axis is time, and y-axis represents a linear ordering of the subchapters, determined by a comparable subchapter code\n",
    "# size can be constant, 1 point for each activity, for the most granular continuous view - or can cluster activities into bubbles by total interactions\n",
    "# Make a joint plot with a histogram of the subchapter activity on the right to show total interaction with each subchapter\n",
    "# and a day-wise histogram on top to show total activity for each day\n",
    "\n",
    "# - Add sliders\n",
    "# - Class aggregate\n",
    "# - Add to FacetGrid for whole class\n",
    "\n",
    "first_day = log['timestamp'].dt.date.min()\n",
    "last_day = log['timestamp'].dt.date.max()\n",
    "num_days = int((last_day - first_day).days)\n",
    "num_units = len(log['unit'].dropna().unique())-1\n",
    "\n",
    "def plot_log(name, df, save=False):\n",
    "    g = sns.JointGrid()\n",
    "    t, v = 'timestamp', 'chapter_label_val'\n",
    "\n",
    "    sns.histplot(data=df, x=t, y=v, ax=g.ax_joint, bins=num_days, hue='unit', legend=False, pmax=0.5)\n",
    "    sns.kdeplot(data=df, x=t, ax=g.ax_marg_x, bw_adjust=0.5, fill=True)\n",
    "    sns.histplot(data=df, y=v, bins=np.arange(1,num_units+2,1), ax=g.ax_marg_y, hue='unit',legend=False)\n",
    "\n",
    "    g.ax_joint.set_xlim(first_day,last_day)\n",
    "    drange = pd.date_range(start=first_day,end=last_day,freq='1W')\n",
    "    g.ax_joint.set_xticks(drange)\n",
    "    g.ax_joint.set_xticklabels(drange.strftime('%b-%d'), rotation=45)\n",
    "    g.ax_joint.set_xlabel('Week')\n",
    "\n",
    "    g.ax_joint.set_ylabel('Interactions by Unit')\n",
    "\n",
    "    plt.title(name, y = 1.25, x=-2.5)\n",
    "    if save: plt.savefig('output/' + name + '.png',dpi=150, bbox_inches='tight')\n",
    "    plt.show()\n",
    "\n",
    "sns.set_style('darkgrid')\n",
    "sns.set_palette('bright')\n",
    "\n",
    "clean_log = log.dropna()\n",
    "# for sid in sid_map.keys():\n",
    "#     plot_log(sid_map[sid], clean_log[clean_log['sid'] == sid], save=True)\n",
    "plot_log('All', clean_log, save=False)"
   ]
  },
  {
   "cell_type": "code",
   "execution_count": null,
   "metadata": {
    "pycharm": {
     "name": "#%%\n"
    }
   },
   "outputs": [],
   "source": [
    "kde = sns.kdeplot(data=clean_log, x='timestamp',hue='sid', palette='husl',linewidth=0.5)\n",
    "sns.move_legend(kde, loc='upper left', bbox_to_anchor=(1, 1))\n",
    "kde.get_legend().set_title('student')\n",
    "\n",
    "drange = pd.date_range(start=first_day,end=last_day,freq='1W')\n",
    "kde.set_xticklabels(drange.strftime('%b-%d'), rotation=45)\n",
    "kde.set_xlabel('')\n",
    "kde.set_ylabel('')\n",
    "kde.set_yticklabels('')\n",
    "plt.title('Interaction Density Plot')\n",
    "# plt.savefig('output/IDPlot.png',dpi=150, bbox_inches='tight')\n",
    "\n",
    "clean_log.groupby('sid')['timestamp'].count().sort_values(ascending=False)"
   ]
  },
  {
   "cell_type": "code",
   "execution_count": null,
   "metadata": {
    "pycharm": {
     "name": "#%%\n"
    }
   },
   "outputs": [],
   "source": []
  }
 ],
 "metadata": {
  "kernelspec": {
   "display_name": "Python 3 (ipykernel)",
   "language": "python",
   "name": "python3"
  },
  "language_info": {
   "codemirror_mode": {
    "name": "ipython",
    "version": 3
   },
   "file_extension": ".py",
   "mimetype": "text/x-python",
   "name": "python",
   "nbconvert_exporter": "python",
   "pygments_lexer": "ipython3",
   "version": "3.9.12"
  }
 },
 "nbformat": 4,
 "nbformat_minor": 1
}
