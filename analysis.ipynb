{
 "cells": [
  {
   "cell_type": "code",
   "execution_count": 231,
   "outputs": [
    {
     "name": "stderr",
     "output_type": "stream",
     "text": [
      "C:\\Users\\Nicholas\\AppData\\Local\\Temp\\ipykernel_21092\\1869901000.py:43: FutureWarning: The default value of regex will change from True to False in a future version.\n",
      "  split_div['div_id'] = split_div['div_id'].str.replace('.html', '')\n"
     ]
    },
    {
     "name": "stdout",
     "output_type": "stream",
     "text": [
      "(1.0, 1.0, 1.0, 1.0)\n"
     ]
    },
    {
     "data": {
      "text/plain": "<Figure size 432x432 with 3 Axes>",
      "image/png": "[encoded data removed]"
     },
     "metadata": {},
     "output_type": "display_data"
    }
   ],
   "source": [
    "import numpy as np\n",
    "import pandas as pd\n",
    "import seaborn as sns\n",
    "import matplotlib.pyplot as plt\n",
    "pd.options.mode.chained_assignment = None  # default = 'warn'\n",
    "\n",
    "log = pd.read_csv('data/data_log.csv', index_col=0)\n",
    "actByInt = pd.read_csv('data/activity_by_interaction.csv', index_col=0)\n",
    "actBySub = pd.read_csv('data/activity_by_subchapter.csv', index_col=0)\n",
    "\n",
    "REMOVE_ADMINS = True\n",
    "\n",
    "sid_map = {}\n",
    "name_map = {}\n",
    "\n",
    "# Rename chapter_activity headers to match student id (sid) in data_log\n",
    "# Assuming actByInt and actBySub have same names in columns headers\n",
    "for name in actByInt.columns:\n",
    "\n",
    "    # Split over '<br>' tag and store in dictionaries\n",
    "    if '<br>' in name:\n",
    "        full_name = name[:name.index('<')]\n",
    "        sid = name[name.index('>') + 2:-1]\n",
    "        sid_map[sid] = full_name\n",
    "        name_map[name] = sid\n",
    "\n",
    "actByInt.rename(columns=name_map, inplace=True)\n",
    "actBySub.rename(columns=name_map, inplace=True)\n",
    "\n",
    "# Drop administrator activity\n",
    "# Note: Found student event with admin type, so must also filter for admin actions\n",
    "\n",
    "admins = log.query('event == \"admin\" & act == \"admin\"')['sid'].unique()\n",
    "\n",
    "if REMOVE_ADMINS:\n",
    "    log = log[log['sid'].isin(admins) == False]\n",
    "    actByInt.drop(columns=admins,inplace=True)\n",
    "    actBySub.drop(columns=admins, inplace=True)\n",
    "\n",
    "# Sometimes the div_id column contains the chapter/subchapter field, so need to split and move to chapter and subchapter columns\n",
    "split_div = log[log['div_id'].str.contains('Unit\\\\d',regex=True) & ~log['div_id'].str.contains('toctree')]\n",
    "\n",
    "split_div['div_id'] = split_div['div_id'].str.replace('.html', '')\n",
    "split_div['chapter'] = split_div['div_id'].map(lambda x : x.split('/')[0])\n",
    "split_div['subchapter'] = split_div['div_id'].map(lambda x : x.split('/')[-1]) # Need to use -1 because not all unit div_id's have a '/subchapter'\n",
    "\n",
    "log[log['div_id'].str.contains('Unit\\\\d',regex=True) & ~log['div_id'].str.contains('toctree')] = split_div\n",
    "\n",
    "# Create a chapter_label_val column with float values assigned to each subchapter, in order of content progression.\n",
    "log['chapter_label_val'] = log['chapter'] + '/' + log['subchapter']\n",
    "log['chapter_label_val'] = log['chapter_label_val'].map(lambda x : \\\n",
    "                                                   float(actBySub.loc[actBySub['chapter_label'].str.contains(x),'chapter_label'].iloc[0].split(' ')[0]) \\\n",
    "                                                   if 'Unit' in x else np.nan)\n",
    "\n",
    "\n",
    "# Create scatterplot where x-axis is time, and y-axis represents a linear ordering of the subchapters, determined by a comparable subchapter code\n",
    "# size can be constant, 1 point for each activity, for the most granular continuous view - or can cluster activities into bubbles by total interactions\n",
    "# Make a joint plot with a histogram of the subchapter activity on the right to show total interaction with each subchapter\n",
    "# and a day-wise histogram on top to show total activity for each day\n",
    "\n",
    "log['timestamp'] = pd.to_datetime(log['timestamp'])\n",
    "log['unit']=np.floor(log['chapter_label_val']).astype('str')\n",
    "student = log[log['sid'] == 'johnme']\n",
    "\n",
    "first_day = log['timestamp'].dt.date.min()\n",
    "last_day = log['timestamp'].dt.date.max()\n",
    "num_days = int((last_day - first_day).days)\n",
    "\n",
    "num_units = len(log['unit'].dropna().unique())\n",
    "\n",
    "sns.set_style('white')\n",
    "sns.set_palette('bright')\n",
    "g = sns.jointplot(data=student, x='timestamp',y='chapter_label_val',hue='unit',kind='hist',dropna=True, \\\n",
    "              joint_kws=dict(bins=num_days), marginal_kws=dict(bins=num_days),\\\n",
    "              xlim=(first_day,last_day),ylim=(1,num_units))\n",
    "\n",
    "sns.move_legend(g.ax_joint, loc='upper left')\n",
    "plt.show()\n",
    "\n",
    "# - Add sliders\n",
    "# - Class aggregate\n",
    "# - Add to FacetGrid for whole class"
   ],
   "metadata": {
    "collapsed": false,
    "pycharm": {
     "name": "#%%\n"
    }
   }
  },
  {
   "cell_type": "code",
   "execution_count": 201,
   "outputs": [],
   "source": [],
   "metadata": {
    "collapsed": false,
    "pycharm": {
     "name": "#%%\n"
    }
   }
  }
 ],
 "metadata": {
  "kernelspec": {
   "display_name": "Python 3",
   "language": "python",
   "name": "python3"
  },
  "language_info": {
   "codemirror_mode": {
    "name": "ipython",
    "version": 2
   },
   "file_extension": ".py",
   "mimetype": "text/x-python",
   "name": "python",
   "nbconvert_exporter": "python",
   "pygments_lexer": "ipython2",
   "version": "2.7.6"
  }
 },
 "nbformat": 4,
 "nbformat_minor": 0
}