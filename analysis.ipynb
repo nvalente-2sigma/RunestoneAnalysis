{
 "cells": [
  {
   "cell_type": "code",
   "execution_count": 5,
   "outputs": [
    {
     "name": "stdout",
     "output_type": "stream",
     "text": [
      "removing admins\n"
     ]
    }
   ],
   "source": [
    "import pandas as pd\n",
    "\n",
    "log = pd.read_csv('data/data_log.csv', index_col=0)\n",
    "actByInt = pd.read_csv('data/activity_by_interaction.csv', index_col=0)\n",
    "actBySub = pd.read_csv('data/activity_by_subchapter.csv', index_col=0)\n",
    "\n",
    "# Drop administrator activity\n",
    "# ---\n",
    "# Note: Discovered student event with admin type, so must also\n",
    "# filter for admin actions as well\n",
    "\n",
    "admins = log.query('event == \"admin\" & act == \"admin\"')['sid'].unique()\n",
    "\n",
    "REMOVE_ADMINS = True\n",
    "if REMOVE_ADMINS:\n",
    "    log = log[log['sid'].isin(admins) == False]\n",
    "\n",
    "students = log['sid'].unique()\n",
    "\n",
    "# Make dicts of names\n",
    "sid_map = {}\n",
    "name_map = {}\n",
    "\n",
    "# Rename chapter_activity headers to match student id (sid) in data_log\n",
    "# Assuming actByInt and actBySub have same names in columns headers\n",
    "for name in actByInt.columns:\n",
    "\n",
    "    # Split over '<br>' tag and store in dictionaries\n",
    "    if '<br>' in name:\n",
    "        full_name = name[:name.index('<')]\n",
    "        sid = name[name.index('>') + 2:-1]\n",
    "\n",
    "        sid_map[sid] = full_name\n",
    "        name_map[name] = sid\n",
    "\n",
    "actByInt = actByInt.rename(columns=name_map)\n",
    "actBySub = actBySub.rename(columns=name_map)\n",
    "if REMOVE_ADMINS:\n",
    "    print('removing admins')\n",
    "\n",
    "# Split off total_activity_count from the chapter_label column on the subchapter dataframe"
   ],
   "metadata": {
    "collapsed": false,
    "pycharm": {
     "name": "#%%\n"
    }
   }
  },
  {
   "cell_type": "code",
   "execution_count": null,
   "outputs": [],
   "source": [],
   "metadata": {
    "collapsed": false,
    "pycharm": {
     "name": "#%%\n"
    }
   }
  }
 ],
 "metadata": {
  "kernelspec": {
   "display_name": "Python 3",
   "language": "python",
   "name": "python3"
  },
  "language_info": {
   "codemirror_mode": {
    "name": "ipython",
    "version": 2
   },
   "file_extension": ".py",
   "mimetype": "text/x-python",
   "name": "python",
   "nbconvert_exporter": "python",
   "pygments_lexer": "ipython2",
   "version": "2.7.6"
  }
 },
 "nbformat": 4,
 "nbformat_minor": 0
}