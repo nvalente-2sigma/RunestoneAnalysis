{
 "cells": [
  {
   "cell_type": "code",
   "execution_count": 19,
   "outputs": [],
   "source": [
    "import pandas as pd\n",
    "\n",
    "log = pd.read_csv('data/data_log.csv', index_col=0)\n",
    "actByInt = pd.read_csv('data/activity_by_interaction.csv', index_col=0)\n",
    "actBySub = pd.read_csv('data/activity_by_subchapter.csv', index_col=0)\n"
   ],
   "metadata": {
    "collapsed": false,
    "pycharm": {
     "name": "#%%\n"
    }
   }
  },
  {
   "cell_type": "code",
   "execution_count": 20,
   "outputs": [
    {
     "name": "stdout",
     "output_type": "stream",
     "text": [
      "                                       chapter_label kyraa sabrinaa  \\\n",
      "0  1.100 Unit1-Getting-Started/topic-1-1-getting-...                  \n",
      "1            1.101 Unit1-Getting-Started/preface (0)                  \n",
      "2           1.102 Unit1-Getting-Started/aboutcsa (0)                  \n",
      "3      1.103 Unit1-Getting-Started/csptransition (0)                  \n",
      "4           1.104 Unit1-Getting-Started/javaIDEs (0)                  \n",
      "\n",
      "  jacquelinea kasaand danielgr feliciah jamarij ethanl johnme devonm ceciliam  \\\n",
      "0                                                                               \n",
      "1                                                                               \n",
      "2                                                                               \n",
      "3                                                                               \n",
      "4                                                                               \n",
      "\n",
      "  xaviern kaliyahr geovanyr janavias  \n",
      "0                                     \n",
      "1                                     \n",
      "2                                     \n",
      "3                                     \n",
      "4                                     \n"
     ]
    }
   ],
   "source": [
    "# Drop administrator activity\n",
    "# ---\n",
    "# Note: Discovered student event with admin type, so must also\n",
    "# filter for admin actions as well\n",
    "\n",
    "admins = log.query('event == \"admin\" & act == \"admin\"')['sid'].unique()\n",
    "\n",
    "REMOVE_ADMINS = True\n",
    "if REMOVE_ADMINS:\n",
    "    log = log[log['sid'].isin(admins) == False]\n",
    "\n",
    "students = log['sid'].unique()\n",
    "\n",
    "# Make dicts of names\n",
    "sid_map = {}\n",
    "name_map = {}\n",
    "\n",
    "# Rename chapter_activity headers to match student id (sid) in data_log\n",
    "# Assuming actByInt and actBySub have same names in columns headers\n",
    "for name in actByInt.columns:\n",
    "\n",
    "    # Split over '<br>' tag and store in dictionaries\n",
    "    if '<br>' in name:\n",
    "        full_name = name[:name.index('<')]\n",
    "        sid = name[name.index('>') + 2:-1]\n",
    "\n",
    "        sid_map[sid] = full_name\n",
    "        name_map[name] = sid\n",
    "\n",
    "actByInt = actByInt.rename(columns=name_map)\n",
    "actBySub = actBySub.rename(columns=name_map)\n",
    "\n",
    "if REMOVE_ADMINS:\n",
    "    actByInt.drop(columns=admins,inplace=True)\n",
    "    actBySub.drop(columns=admins, inplace=True)\n",
    "\n",
    "\n",
    "\n",
    "# Split off total_activity_count from the chapter_label column on the subchapter dataframe"
   ],
   "metadata": {
    "collapsed": false,
    "pycharm": {
     "name": "#%%\n"
    }
   }
  },
  {
   "cell_type": "code",
   "execution_count": 20,
   "outputs": [],
   "source": [],
   "metadata": {
    "collapsed": false,
    "pycharm": {
     "name": "#%%\n"
    }
   }
  }
 ],
 "metadata": {
  "kernelspec": {
   "display_name": "Python 3",
   "language": "python",
   "name": "python3"
  },
  "language_info": {
   "codemirror_mode": {
    "name": "ipython",
    "version": 2
   },
   "file_extension": ".py",
   "mimetype": "text/x-python",
   "name": "python",
   "nbconvert_exporter": "python",
   "pygments_lexer": "ipython2",
   "version": "2.7.6"
  }
 },
 "nbformat": 4,
 "nbformat_minor": 0
}